{
 "cells": [
  {
   "cell_type": "markdown",
   "metadata": {
    "ExecuteTime": {
     "end_time": "2018-03-13T02:30:23.374032Z",
     "start_time": "2018-03-13T02:30:23.369412Z"
    }
   },
   "source": [
    "# IMDB Review Sentiment Analysis\n",
    "This should explain the problem with some links"
   ]
  },
  {
   "cell_type": "code",
   "execution_count": 1,
   "metadata": {
    "ExecuteTime": {
     "end_time": "2018-03-14T22:29:48.740927Z",
     "start_time": "2018-03-14T22:29:47.949223Z"
    }
   },
   "outputs": [
    {
     "name": "stderr",
     "output_type": "stream",
     "text": [
      "Using TensorFlow backend.\n"
     ]
    }
   ],
   "source": [
    "import pandas as pd\n",
    "import numpy as np\n",
    "from glob import glob\n",
    "import os\n",
    "import sys\n",
    "\n",
    "from keras.preprocessing.text import Tokenizer\n",
    "from keras.preprocessing.sequence import pad_sequences\n",
    "from sklearn.model_selection import train_test_split, GridSearchCV\n",
    "from keras.wrappers.scikit_learn import KerasClassifier\n",
    "\n",
    "from keras.models import Sequential\n",
    "from keras.layers import Dense, LSTM, Dropout\n",
    "from keras.layers.embeddings import Embedding"
   ]
  },
  {
   "cell_type": "code",
   "execution_count": 2,
   "metadata": {
    "ExecuteTime": {
     "end_time": "2018-03-14T22:29:48.746847Z",
     "start_time": "2018-03-14T22:29:48.742274Z"
    }
   },
   "outputs": [],
   "source": [
    "# Checking if we have the data. If not download it\n",
    "# This needs to be done...\n",
    "# Mention that we could use the built-in keras.load_imdb() but want to do it manually for clarity\n",
    "VOCAB_PATH = 'data/imdb.vocab'\n",
    "TRAIN_PATH = 'data/train'\n",
    "TEST_PATH = 'data/test'\n",
    "\n",
    "SEED = 2018\n",
    "VOCAB_SIZE = 100\n",
    "MAX_REVIEW_LEN = 250\n",
    "NUM_EPOCHS = 5\n",
    "BATCH_SIZE = 64"
   ]
  },
  {
   "cell_type": "code",
   "execution_count": 3,
   "metadata": {
    "ExecuteTime": {
     "end_time": "2018-03-14T22:29:48.762508Z",
     "start_time": "2018-03-14T22:29:48.748525Z"
    }
   },
   "outputs": [],
   "source": [
    "def get_x_y(file_path):\n",
    "    files = {}\n",
    "    files['pos'] = glob(os.path.join(file_path, 'pos', '*.txt'))\n",
    "    files['neg'] = glob(os.path.join(file_path, 'neg', '*.txt'))\n",
    "    \n",
    "    sentiment_map = {'pos': 1, 'neg': 0}\n",
    "    x = []\n",
    "    y = []\n",
    "    for sentiment in files:\n",
    "        for file_name in files[sentiment]:\n",
    "            temp_ = []\n",
    "            with open(file_name) as file_:\n",
    "                temp_ = file_.read()\n",
    "            x.append(temp_)\n",
    "            y.append(sentiment_map[sentiment])\n",
    "            \n",
    "    return x, y"
   ]
  },
  {
   "cell_type": "code",
   "execution_count": 4,
   "metadata": {
    "ExecuteTime": {
     "end_time": "2018-03-14T22:29:49.696196Z",
     "start_time": "2018-03-14T22:29:48.763741Z"
    }
   },
   "outputs": [],
   "source": [
    "# Read in the text data\n",
    "x_train, y_train = get_x_y(TRAIN_PATH)\n",
    "x_test, y_test = get_x_y(TEST_PATH)"
   ]
  },
  {
   "cell_type": "code",
   "execution_count": 5,
   "metadata": {
    "ExecuteTime": {
     "end_time": "2018-03-14T22:29:52.825159Z",
     "start_time": "2018-03-14T22:29:49.697486Z"
    }
   },
   "outputs": [],
   "source": [
    "# Make our tokenizer\n",
    "tokenizer = Tokenizer(num_words=VOCAB_SIZE)\n",
    "tokenizer.fit_on_texts(x_train)"
   ]
  },
  {
   "cell_type": "code",
   "execution_count": 6,
   "metadata": {
    "ExecuteTime": {
     "end_time": "2018-03-14T22:29:57.880091Z",
     "start_time": "2018-03-14T22:29:52.826521Z"
    }
   },
   "outputs": [],
   "source": [
    "# Fit our training data\n",
    "x_train = tokenizer.texts_to_sequences(x_train)\n",
    "x_train = pad_sequences(x_train, maxlen=MAX_REVIEW_LEN)\n",
    "\n",
    "# Fit our testing data\n",
    "x_test = tokenizer.texts_to_sequences(x_test)\n",
    "x_test = pad_sequences(x_test, maxlen=MAX_REVIEW_LEN)"
   ]
  },
  {
   "cell_type": "code",
   "execution_count": 7,
   "metadata": {
    "ExecuteTime": {
     "end_time": "2018-03-14T22:29:57.888054Z",
     "start_time": "2018-03-14T22:29:57.881616Z"
    }
   },
   "outputs": [],
   "source": [
    "def create_model(embedding_vector_length=32, dropout_rate=0.2):\n",
    "    model = Sequential()\n",
    "    model.add(Embedding(VOCAB_SIZE, embedding_vector_length, input_length=MAX_REVIEW_LEN))\n",
    "    model.add(Dropout(dropout_rate))\n",
    "    model.add(LSTM(100))\n",
    "    model.add(Dropout(dropout_rate))\n",
    "    model.add(Dense(1, activation='sigmoid'))\n",
    "    model.compile(loss='binary_crossentropy', optimizer='adam', metrics=['accuracy'])\n",
    "    return model"
   ]
  },
  {
   "cell_type": "code",
   "execution_count": 8,
   "metadata": {
    "ExecuteTime": {
     "end_time": "2018-03-14T22:29:57.893535Z",
     "start_time": "2018-03-14T22:29:57.889614Z"
    }
   },
   "outputs": [],
   "source": [
    "# model = create_model()\n",
    "# model.fit(x_train, y_train, epochs=NUM_EPOCHS, batch_size=BATCH_SIZE)\n",
    "# scores = model.evaluate(x_test, y_test, verbose=0)\n",
    "# print(\"Accuracy: %.2f%%\" % (scores[1]*100))"
   ]
  },
  {
   "cell_type": "code",
   "execution_count": 9,
   "metadata": {
    "ExecuteTime": {
     "end_time": "2018-03-14T22:29:57.898347Z",
     "start_time": "2018-03-14T22:29:57.894969Z"
    }
   },
   "outputs": [],
   "source": [
    "model = KerasClassifier(build_fn=create_model, epochs=NUM_EPOCHS, batch_size=BATCH_SIZE, verbose=1)"
   ]
  },
  {
   "cell_type": "code",
   "execution_count": 10,
   "metadata": {
    "ExecuteTime": {
     "end_time": "2018-03-14T22:29:57.902969Z",
     "start_time": "2018-03-14T22:29:57.899715Z"
    }
   },
   "outputs": [],
   "source": [
    "params = {\n",
    "    'dropout_rate': [0.1, 0.2, 0.5]\n",
    "}\n",
    "\n",
    "grid = GridSearchCV(estimator=model, scoring=\"accuracy\", param_grid=params)"
   ]
  },
  {
   "cell_type": "code",
   "execution_count": null,
   "metadata": {
    "ExecuteTime": {
     "start_time": "2018-03-14T22:29:47.952Z"
    }
   },
   "outputs": [
    {
     "name": "stdout",
     "output_type": "stream",
     "text": [
      "Epoch 1/5\n",
      " 8256/16666 [=============>................] - ETA: 16s - loss: 0.5437 - acc: 0.7536"
     ]
    }
   ],
   "source": [
    "grid_result = grid.fit(x_train, y_train)"
   ]
  },
  {
   "cell_type": "code",
   "execution_count": null,
   "metadata": {
    "ExecuteTime": {
     "start_time": "2018-03-14T22:29:47.953Z"
    }
   },
   "outputs": [],
   "source": [
    "rint(\"Best: %f using %s\" % (grid_result.best_score_, grid_result.best_params_))\n",
    "means = grid_result.cv_results_['mean_test_score']\n",
    "stds = grid_result.cv_results_['std_test_score']\n",
    "params = grid_result.cv_results_['params']\n",
    "for mean, stdev, param in zip(means, stds, params):\n",
    "    print(\"%f (%f) with: %r\" % (mean, stdev, param))"
   ]
  }
 ],
 "metadata": {
  "kernelspec": {
   "display_name": "Python 3",
   "language": "python",
   "name": "python3"
  },
  "language_info": {
   "codemirror_mode": {
    "name": "ipython",
    "version": 3
   },
   "file_extension": ".py",
   "mimetype": "text/x-python",
   "name": "python",
   "nbconvert_exporter": "python",
   "pygments_lexer": "ipython3",
   "version": "3.6.3"
  }
 },
 "nbformat": 4,
 "nbformat_minor": 2
}
