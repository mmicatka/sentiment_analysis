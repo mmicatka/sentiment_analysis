{
 "cells": [
  {
   "cell_type": "markdown",
   "metadata": {
    "ExecuteTime": {
     "end_time": "2018-03-13T02:30:23.374032Z",
     "start_time": "2018-03-13T02:30:23.369412Z"
    }
   },
   "source": [
    "# IMDB Data Preprocessing"
   ]
  },
  {
   "cell_type": "code",
   "execution_count": 1,
   "metadata": {
    "ExecuteTime": {
     "end_time": "2018-03-14T23:53:30.459334Z",
     "start_time": "2018-03-14T23:53:30.448868Z"
    }
   },
   "outputs": [
    {
     "name": "stderr",
     "output_type": "stream",
     "text": [
      "Using TensorFlow backend.\n"
     ]
    }
   ],
   "source": [
    "import pandas as pd\n",
    "import numpy as np\n",
    "from glob import glob\n",
    "import os\n",
    "import sys\n",
    "from datetime import datetime\n",
    "import matplotlib.pyplot as plt\n",
    "from sklearn.utils import resample\n",
    "\n",
    "from keras.preprocessing.text import Tokenizer\n",
    "from keras.preprocessing.sequence import pad_sequences\n",
    "from sklearn.model_selection import train_test_split, GridSearchCV\n",
    "from keras.wrappers.scikit_learn import KerasClassifier\n",
    "from keras.layers.core import Activation\n",
    "from keras.models import Sequential\n",
    "from keras.layers import Dense, LSTM, Dropout, RNN\n",
    "from keras.layers.embeddings import Embedding"
   ]
  },
  {
   "cell_type": "code",
   "execution_count": 2,
   "metadata": {
    "ExecuteTime": {
     "end_time": "2018-03-14T23:45:18.620853Z",
     "start_time": "2018-03-14T23:45:18.617095Z"
    }
   },
   "outputs": [],
   "source": [
    "TRAIN_PATH = 'data/train'\n",
    "TEST_PATH = 'data/test'\n",
    "SEED = 2018\n",
    "VOCAB_SIZE = 100\n",
    "MAX_REVIEW_LEN = 250\n",
    "NUM_EPOCHS = 5\n",
    "BATCH_SIZE = 64"
   ]
  },
  {
   "cell_type": "code",
   "execution_count": 3,
   "metadata": {
    "ExecuteTime": {
     "end_time": "2018-03-14T23:45:20.542394Z",
     "start_time": "2018-03-14T23:45:20.530076Z"
    }
   },
   "outputs": [],
   "source": [
    "def get_x_y(file_path):\n",
    "    files = {}\n",
    "    files['pos'] = glob(os.path.join(file_path, 'pos', '*.txt'))\n",
    "    files['neg'] = glob(os.path.join(file_path, 'neg', '*.txt'))\n",
    "    \n",
    "    sentiment_map = {'pos': 1, 'neg': 0}\n",
    "    x = []\n",
    "    y = []\n",
    "    for sentiment in files:\n",
    "        for file_name in files[sentiment]:\n",
    "            temp_ = []\n",
    "            with open(file_name) as file_:\n",
    "                temp_ = file_.read()\n",
    "            x.append(temp_)\n",
    "            y.append(sentiment_map[sentiment])\n",
    "    return x, y"
   ]
  },
  {
   "cell_type": "code",
   "execution_count": 4,
   "metadata": {
    "ExecuteTime": {
     "end_time": "2018-03-14T23:45:21.899501Z",
     "start_time": "2018-03-14T23:45:20.929196Z"
    }
   },
   "outputs": [],
   "source": [
    "# Read in the text data\n",
    "x_train_raw, y_train_raw = get_x_y(TRAIN_PATH)\n",
    "x_test_raw, y_test_raw = get_x_y(TEST_PATH)"
   ]
  },
  {
   "cell_type": "code",
   "execution_count": 5,
   "metadata": {},
   "outputs": [
    {
     "name": "stdout",
     "output_type": "stream",
     "text": [
      "Not the most successful television project John Cleese ever did, \"Strange Case\" has the feel of a first draft that was rushed into production before any revisions could be made. There are some silly ideas throughout and even a few clever ones, but the story as a whole unfortunately doesn't add up to much.<br /><br />Arthur Lowe is a hoot, though, as Dr. Watson, bionic bits and all. \"Good Lord.\"\n",
      "1\n"
     ]
    }
   ],
   "source": [
    "print(x_train_raw[0])\n",
    "print(y_train_raw[0])"
   ]
  },
  {
   "cell_type": "code",
   "execution_count": 6,
   "metadata": {},
   "outputs": [],
   "source": [
    "review_lengths = []\n",
    "for review in x_train_raw:\n",
    "    review_lengths.append(len(review.split(' ')))"
   ]
  },
  {
   "cell_type": "code",
   "execution_count": 7,
   "metadata": {
    "ExecuteTime": {
     "end_time": "2018-03-14T23:28:24.243276Z",
     "start_time": "2018-03-14T23:28:24.237049Z"
    }
   },
   "outputs": [
    {
     "data": {
      "image/png": "[encoded data removed]",
      "text/plain": [
       "<Figure size 432x288 with 1 Axes>"
      ]
     },
     "metadata": {},
     "output_type": "display_data"
    }
   ],
   "source": [
    "percent_95 = np.percentile(review_lengths, 95)\n",
    "bins = np.arange(0, percent_95, 10)\n",
    "plt.hist(review_lengths,bins,color='blue',alpha=0.8)\n",
    "plt.xlabel('Review Lengths')\n",
    "plt.ylabel('Number of Reviews')\n",
    "plt.title('Number of Reviews vs Review Length (95% percentile)')\n",
    "plt.show()"
   ]
  },
  {
   "cell_type": "markdown",
   "metadata": {},
   "source": [
    "While this type of data makes sense to humans, we need to convert the (in this case) English sentences into sequences of numbers. This can be done by using a tool provided by Keras called a 'Tokenizer'. This transforms strings into sequences of numbers where words are mapped to numbers corresponding to their overall frequency. For example, if the word 'a' is the most common word and 'this' is the second most common the sentence: 'This is a dog.' Would become [2, 0, 1, 0], where '0' is a placeholder for any word not in the tokenizer. We also need to make sure all of our sequences are the same length. we can choose a length that makes sense and pad the sequences with zeros to that length.\n",
    "\n",
    "Note: We have already did some transformations by converting 'pos' => 0, and 'neg' => 1 when we read in the data"
   ]
  },
  {
   "cell_type": "code",
   "execution_count": 8,
   "metadata": {
    "ExecuteTime": {
     "end_time": "2018-03-14T23:45:27.744118Z",
     "start_time": "2018-03-14T23:45:23.985342Z"
    }
   },
   "outputs": [],
   "source": [
    "tokenizer = Tokenizer(num_words=VOCAB_SIZE)\n",
    "tokenizer.fit_on_texts(x_train_raw)"
   ]
  },
  {
   "cell_type": "code",
   "execution_count": 9,
   "metadata": {
    "ExecuteTime": {
     "end_time": "2018-03-14T23:45:32.803409Z",
     "start_time": "2018-03-14T23:45:27.745654Z"
    }
   },
   "outputs": [],
   "source": [
    "# Fit our training data\n",
    "x_train = tokenizer.texts_to_sequences(x_train_raw)\n",
    "x_train = pad_sequences(x_train, maxlen=MAX_REVIEW_LEN)\n",
    "\n",
    "# Fit our testing data\n",
    "x_test = tokenizer.texts_to_sequences(x_test_raw)\n",
    "x_test = pad_sequences(x_test, maxlen=MAX_REVIEW_LEN)"
   ]
  },
  {
   "cell_type": "code",
   "execution_count": 10,
   "metadata": {
    "ExecuteTime": {
     "end_time": "2018-03-14T23:28:37.791165Z",
     "start_time": "2018-03-14T23:28:37.788198Z"
    }
   },
   "outputs": [
    {
     "name": "stdout",
     "output_type": "stream",
     "text": [
      "[ 0  0  0  0  0  0  0  0  0  0  0  0  0  0  0  0  0  0  0  0  0  0  0  0\n",
      "  0  0  0  0  0  0  0  0  0  0  0  0  0  0  0  0  0  0  0  0  0  0  0  0\n",
      "  0  0  0  0  0  0  0  0  0  0  0  0  0  0  0  0  0  0  0  0  0  0  0  0\n",
      "  0  0  0  0  0  0  0  0  0  0  0  0  0  0  0  0  0  0  0  0  0  0  0  0\n",
      "  0  0  0  0  0  0  0  0  0  0  0  0  0  0  0  0  0  0  0  0  0  0  0  0\n",
      "  0  0  0  0  0  0  0  0  0  0  0  0  0  0  0  0  0  0  0  0  0  0  0  0\n",
      "  0  0  0  0  0  0  0  0  0  0  0  0  0  0  0  0  0  0  0  0  0  0  0  0\n",
      "  0  0  0  0  0  0  0  0  0  0  0  0  0  0  0  0  0  0  0  0  0  0  0  0\n",
      "  0  0  0  0  0  0  0  0  0  0  0  0  0  0  0  0  0  0  0  0  0 21  1 88\n",
      " 44  1  4  3 83 12 13 80 98 97 27 90 47 23 46  2 57  3 18  1 62 14  3 53\n",
      "  5 73  7  7  6  3 14  2 29 49]\n"
     ]
    }
   ],
   "source": [
    "print(x_train[0])"
   ]
  },
  {
   "cell_type": "code",
   "execution_count": 11,
   "metadata": {
    "ExecuteTime": {
     "end_time": "2018-03-14T23:28:40.511952Z",
     "start_time": "2018-03-14T23:28:40.486615Z"
    }
   },
   "outputs": [],
   "source": [
    "from sklearn.linear_model import SGDClassifier\n",
    "from sklearn.metrics import accuracy_score"
   ]
  },
  {
   "cell_type": "code",
   "execution_count": 13,
   "metadata": {
    "ExecuteTime": {
     "end_time": "2018-03-14T23:28:41.193086Z",
     "start_time": "2018-03-14T23:28:41.029381Z"
    }
   },
   "outputs": [
    {
     "name": "stdout",
     "output_type": "stream",
     "text": [
      "0.50584\n"
     ]
    },
    {
     "name": "stderr",
     "output_type": "stream",
     "text": [
      "/home/mike/venv/lib/python3.6/site-packages/sklearn/linear_model/stochastic_gradient.py:128: FutureWarning: max_iter and tol parameters have been added in <class 'sklearn.linear_model.stochastic_gradient.SGDClassifier'> in 0.19. If both are left unset, they default to max_iter=5 and tol=None. If tol is not None, max_iter defaults to max_iter=1000. From 0.21, default max_iter will be 1000, and default tol will be 1e-3.\n",
      "  \"and default tol will be 1e-3.\" % type(self), FutureWarning)\n"
     ]
    }
   ],
   "source": [
    "model = SGDClassifier()\n",
    "model.fit(x_train, y_train_raw)\n",
    "pred = model.predict(x_test)\n",
    "accuracy = accuracy_score(y_test_raw, pred)\n",
    "print(accuracy)"
   ]
  },
  {
   "cell_type": "code",
   "execution_count": 14,
   "metadata": {
    "ExecuteTime": {
     "end_time": "2018-03-14T22:29:57.888054Z",
     "start_time": "2018-03-14T22:29:57.881616Z"
    }
   },
   "outputs": [],
   "source": [
    "def basic_lstm_model(embedding_vector_length=32, dropout_rate=0.2):\n",
    "    model = Sequential()\n",
    "    model.add(Embedding(VOCAB_SIZE, embedding_vector_length, input_length=MAX_REVIEW_LEN))\n",
    "    model.add(Dropout(dropout_rate))\n",
    "    model.add(LSTM(100))\n",
    "    model.add(Dropout(dropout_rate))\n",
    "    model.add(Dense(1, activation='sigmoid'))\n",
    "    model.compile(loss='binary_crossentropy', optimizer='adam', metrics=['accuracy'])\n",
    "    return model"
   ]
  },
  {
   "cell_type": "code",
   "execution_count": 15,
   "metadata": {
    "ExecuteTime": {
     "end_time": "2018-03-14T22:29:57.893535Z",
     "start_time": "2018-03-14T22:29:57.889614Z"
    }
   },
   "outputs": [
    {
     "name": "stdout",
     "output_type": "stream",
     "text": [
      "Epoch 1/5\n",
      "25000/25000 [==============================] - 120s 5ms/step - loss: 0.6213 - acc: 0.6565\n",
      "Epoch 2/5\n",
      "25000/25000 [==============================] - 119s 5ms/step - loss: 0.5566 - acc: 0.7178\n",
      "Epoch 3/5\n",
      "25000/25000 [==============================] - 118s 5ms/step - loss: 0.5409 - acc: 0.7316\n",
      "Epoch 4/5\n",
      "25000/25000 [==============================] - 117s 5ms/step - loss: 0.5374 - acc: 0.7330\n",
      "Epoch 5/5\n",
      "25000/25000 [==============================] - 117s 5ms/step - loss: 0.5355 - acc: 0.7325\n",
      "Accuracy: 73.09%\n"
     ]
    }
   ],
   "source": [
    "model = basic_lstm_model()\n",
    "model.fit(x_train, y_train_raw, epochs=NUM_EPOCHS, batch_size=BATCH_SIZE)\n",
    "scores = model.evaluate(x_test, y_test_raw, verbose=0)\n",
    "print(\"Accuracy: %.2f%%\" % (scores[1]*100))"
   ]
  },
  {
   "cell_type": "code",
   "execution_count": 16,
   "metadata": {},
   "outputs": [],
   "source": [
    "VOCAB_SIZE = 100\n",
    "MAX_REVIEW_LEN = 250\n",
    "NUM_EPOCHS = 1\n",
    "BATCH_SIZE = 64\n",
    "EMBED_LENGTH = 32\n",
    "DROPOUT_RATE = 0.2"
   ]
  },
  {
   "cell_type": "code",
   "execution_count": 17,
   "metadata": {},
   "outputs": [
    {
     "name": "stdout",
     "output_type": "stream",
     "text": [
      "Prepared data in 0:00:09.279152\n"
     ]
    }
   ],
   "source": [
    "time_start = datetime.now()\n",
    "\n",
    "# Read in the text data\n",
    "x_train, y_train = get_x_y(TRAIN_PATH)\n",
    "x_test, y_test = get_x_y(TEST_PATH)\n",
    "\n",
    "tokenizer = Tokenizer(num_words=VOCAB_SIZE)\n",
    "tokenizer.fit_on_texts(x_train)\n",
    "\n",
    "# Fit our training data\n",
    "x_train_sequence = tokenizer.texts_to_sequences(x_train)\n",
    "x_train_pad = pad_sequences(x_train_sequence, maxlen=MAX_REVIEW_LEN)\n",
    "\n",
    "# Fit our testing data\n",
    "x_test_sequence = tokenizer.texts_to_sequences(x_test)\n",
    "x_test_pad = pad_sequences(x_test_sequence, maxlen=MAX_REVIEW_LEN)\n",
    "\n",
    "print('Prepared data in ' + str(datetime.now() - time_start))"
   ]
  },
  {
   "cell_type": "code",
   "execution_count": 18,
   "metadata": {},
   "outputs": [],
   "source": [
    "# Subset for testing\n",
    "x_train_pad_sub, y_train_sub = resample(x_train_pad, y_train, replace=False, n_samples=5000, random_state=SEED)\n",
    "\n",
    "x_test_pad_sub, y_test_sub = resample(x_test_pad, y_test, replace=False, n_samples=5000, random_state=SEED)"
   ]
  },
  {
   "cell_type": "code",
   "execution_count": 19,
   "metadata": {},
   "outputs": [],
   "source": [
    "def train_and_evaluate_model(num_epochs=5, batch_size=32, embed_length=32, dropout_rate=0.2):\n",
    "    time_start = datetime.now()\n",
    "    model = basic_lstm_model(embedding_vector_length=embed_length, dropout_rate=dropout_rate)\n",
    "    model.fit(x_train_pad_sub, y_train_sub, epochs=num_epochs, batch_size=batch_size)\n",
    "    scores = model.evaluate(x_test_pad_sub, y_test_sub, verbose=0)\n",
    "    print(\"Accuracy: %.2f%%\" % (scores[1]*100))\n",
    "    return scores[1]"
   ]
  },
  {
   "cell_type": "code",
   "execution_count": 20,
   "metadata": {},
   "outputs": [
    {
     "name": "stdout",
     "output_type": "stream",
     "text": [
      "epoch(s): 1\n",
      "Epoch 1/1\n",
      "5000/5000 [==============================] - 47s 9ms/step - loss: 0.6780 - acc: 0.5656\n",
      "Accuracy: 65.38%\n",
      "epoch(s): 2\n",
      "Epoch 1/2\n",
      "5000/5000 [==============================] - 47s 9ms/step - loss: 0.6761 - acc: 0.5676\n",
      "Epoch 2/2\n",
      "5000/5000 [==============================] - 47s 9ms/step - loss: 0.6082 - acc: 0.6676\n",
      "Accuracy: 68.46%\n",
      "epoch(s): 3\n",
      "Epoch 1/3\n",
      "5000/5000 [==============================] - 48s 10ms/step - loss: 0.6785 - acc: 0.5826\n",
      "Epoch 2/3\n",
      "5000/5000 [==============================] - 47s 9ms/step - loss: 0.6212 - acc: 0.6642\n",
      "Epoch 3/3\n",
      "5000/5000 [==============================] - 46s 9ms/step - loss: 0.5883 - acc: 0.6894\n",
      "Accuracy: 68.98%\n",
      "epoch(s): 4\n",
      "Epoch 1/4\n",
      "5000/5000 [==============================] - 47s 9ms/step - loss: 0.6773 - acc: 0.5684\n",
      "Epoch 2/4\n",
      "5000/5000 [==============================] - 46s 9ms/step - loss: 0.6234 - acc: 0.6554\n",
      "Epoch 3/4\n",
      "5000/5000 [==============================] - 46s 9ms/step - loss: 0.5929 - acc: 0.6862\n",
      "Epoch 4/4\n",
      "5000/5000 [==============================] - 46s 9ms/step - loss: 0.5869 - acc: 0.6922\n",
      "Accuracy: 70.72%\n",
      "epoch(s): 5\n",
      "Epoch 1/5\n",
      "5000/5000 [==============================] - 46s 9ms/step - loss: 0.7056 - acc: 0.5456\n",
      "Epoch 2/5\n",
      "5000/5000 [==============================] - 46s 9ms/step - loss: 0.6524 - acc: 0.6106\n",
      "Epoch 3/5\n",
      "5000/5000 [==============================] - 46s 9ms/step - loss: 0.6175 - acc: 0.6694\n",
      "Epoch 4/5\n",
      "5000/5000 [==============================] - 46s 9ms/step - loss: 0.5947 - acc: 0.6900\n",
      "Epoch 5/5\n",
      "5000/5000 [==============================] - 46s 9ms/step - loss: 0.5869 - acc: 0.6948\n",
      "Accuracy: 69.32%\n"
     ]
    }
   ],
   "source": [
    "# Subset for testing\n",
    "epochs = range(1, 6)\n",
    "scores = []\n",
    "for epoch in epochs:\n",
    "    print('epoch(s): ' + str(epoch))\n",
    "    scores.append(train_and_evaluate_model(num_epochs=epoch, batch_size=32, embed_length=32, dropout_rate=0.2))"
   ]
  },
  {
   "cell_type": "code",
   "execution_count": 21,
   "metadata": {},
   "outputs": [
    {
     "data": {
      "image/png": "[encoded data removed]",
      "text/plain": [
       "<Figure size 432x288 with 1 Axes>"
      ]
     },
     "metadata": {},
     "output_type": "display_data"
    }
   ],
   "source": [
    "x = [1,2,3,4,5]\n",
    "plt.bar(x, scores)\n",
    "\n",
    "plt.xlim([0, len(x)+1])\n",
    "plt.ylim([0, 1])\n",
    "plt.xlabel('Number of Epochs')\n",
    "plt.ylabel('Accuracy')\n",
    "plt.title('Number of Epochs vs Accuracy')\n",
    "plt.legend(['5k samples train/validate'])\n",
    "\n",
    "plt.show()"
   ]
  },
  {
   "cell_type": "code",
   "execution_count": 22,
   "metadata": {},
   "outputs": [],
   "source": [
    "VOCAB_SIZE = 100\n",
    "NUM_EPOCHS = 1\n",
    "BATCH_SIZE = 64\n",
    "EMBED_LENGTH = 32\n",
    "DROPOUT_RATE = 0.2\n",
    "\n",
    "\n",
    "# Read in the text data - this does not change so can/should be outside the function for speed\n",
    "x_train_raw, y_train_raw = get_x_y(TRAIN_PATH)\n",
    "x_test_raw, y_test_raw = get_x_y(TEST_PATH)\n",
    "\n",
    "def prep_data(vocab_size=100, max_review_len=150):\n",
    "    time_start = datetime.now()\n",
    "    tokenizer = Tokenizer(num_words=vocab_size)\n",
    "    tokenizer.fit_on_texts(x_train)\n",
    "    \n",
    "    # Fit our training data\n",
    "    x_train_sequence = tokenizer.texts_to_sequences(x_train_raw)\n",
    "    x_train_pad = pad_sequences(x_train_sequence, maxlen=max_review_len)\n",
    "\n",
    "    # Fit our testing data\n",
    "    x_test_sequence = tokenizer.texts_to_sequences(x_test_raw)\n",
    "    x_test_pad = pad_sequences(x_test_sequence, maxlen=max_review_len)\n",
    "\n",
    "    # Subset for testing\n",
    "    x_train_pad_sub, y_train_sub = resample(x_train_pad, y_train_raw, replace=False, n_samples=5000, random_state=SEED)\n",
    "    x_test_pad_sub, y_test_sub = resample(x_test_pad, y_test_raw, replace=False, n_samples=5000, random_state=SEED)\n",
    "\n",
    "    print('Prepared data in ' + str(datetime.now() - time_start))\n",
    "    return x_train_pad_sub, y_train_sub, x_test_pad_sub, y_test_sub\n",
    "\n",
    "def basic_lstm_model(\n",
    "    embedding_vector_length=32,\n",
    "    dropout_rate=0.2, \n",
    "    vocab_size=100, \n",
    "    max_review_len=150,\n",
    "    lstm_len=100\n",
    "):\n",
    "    model = Sequential()\n",
    "    model.add(Embedding(vocab_size, embedding_vector_length, input_length=max_review_len))\n",
    "    model.add(Dropout(dropout_rate))\n",
    "    model.add(LSTM(lstm_len))\n",
    "    model.add(Dropout(dropout_rate))\n",
    "    model.add(Dense(1, activation='sigmoid'))\n",
    "    model.compile(loss='binary_crossentropy', optimizer='adam', metrics=['accuracy'])\n",
    "    return model\n",
    "\n",
    "def train_and_evaluate_model(\n",
    "    x_train=x_train_pad_sub,\n",
    "    y_train=y_train_sub,\n",
    "    x_test=x_train_pad_sub,\n",
    "    y_test=y_test_sub,\n",
    "    num_epochs=5,\n",
    "    batch_size=32,\n",
    "    max_review_len=100,\n",
    "    embed_length=32,\n",
    "    vocab_size=100,\n",
    "    verbose=1\n",
    "):\n",
    "    time_start = datetime.now()\n",
    "    model = basic_lstm_model(\n",
    "        vocab_size=vocab_size,\n",
    "        embedding_vector_length=embed_length,\n",
    "        max_review_len=max_review_len\n",
    "    )\n",
    "    model.fit(x_train, y_train, epochs=num_epochs, batch_size=batch_size, verbose=verbose)\n",
    "    scores = model.evaluate(x_test, y_test)\n",
    "    print(\"Accuracy: %.2f%%\" % (scores[1]*100))\n",
    "    return scores[1]"
   ]
  },
  {
   "cell_type": "code",
   "execution_count": 23,
   "metadata": {},
   "outputs": [
    {
     "name": "stdout",
     "output_type": "stream",
     "text": [
      "10\n",
      "Prepared data in 0:00:08.005396\n",
      "5000/5000 [==============================] - 1s 279us/step\n",
      "Accuracy: 62.46%\n",
      "25\n",
      "Prepared data in 0:00:08.085274\n",
      "5000/5000 [==============================] - 2s 453us/step\n",
      "Accuracy: 65.60%\n",
      "50\n",
      "Prepared data in 0:00:08.256901\n",
      "5000/5000 [==============================] - 3s 667us/step\n",
      "Accuracy: 69.28%\n",
      "100\n",
      "Prepared data in 0:00:08.212115\n",
      "5000/5000 [==============================] - 5s 1ms/step\n",
      "Accuracy: 70.74%\n",
      "150\n",
      "Prepared data in 0:00:08.202973\n",
      "5000/5000 [==============================] - 7s 1ms/step\n",
      "Accuracy: 68.58%\n",
      "200\n",
      "Prepared data in 0:00:08.463871\n",
      "5000/5000 [==============================] - 9s 2ms/step\n",
      "Accuracy: 66.98%\n",
      "250\n",
      "Prepared data in 0:00:08.250957\n",
      "5000/5000 [==============================] - 11s 2ms/step\n",
      "Accuracy: 68.26%\n"
     ]
    }
   ],
   "source": [
    "max_review_lengths = [10, 25, 50, 100, 150, 200, 250]\n",
    "scores = []\n",
    "\n",
    "for max_review in max_review_lengths:\n",
    "    print(max_review)\n",
    "    x_train_pad_sub, y_train_sub, x_test_pad_sub, y_test_sub = prep_data(\n",
    "        vocab_size=100,\n",
    "        max_review_len=max_review\n",
    "    )\n",
    "    \n",
    "    scores.append(\n",
    "        train_and_evaluate_model(\n",
    "            x_train=x_train_pad_sub,\n",
    "            y_train=y_train_sub,\n",
    "            x_test=x_test_pad_sub,\n",
    "            y_test=y_test_sub,\n",
    "            num_epochs=2,\n",
    "            max_review_len=max_review,\n",
    "            verbose=0\n",
    "        )\n",
    "    )"
   ]
  },
  {
   "cell_type": "code",
   "execution_count": 24,
   "metadata": {},
   "outputs": [
    {
     "name": "stdout",
     "output_type": "stream",
     "text": [
      "10\n",
      "Prepared data in 0:00:08.034902\n",
      "5000/5000 [==============================] - 2s 321us/step\n",
      "Accuracy: 64.18%\n",
      "25\n",
      "Prepared data in 0:00:08.178110\n",
      "5000/5000 [==============================] - 2s 481us/step\n",
      "Accuracy: 67.68%\n",
      "50\n",
      "Prepared data in 0:00:08.238789\n",
      "5000/5000 [==============================] - 3s 685us/step\n",
      "Accuracy: 70.60%\n",
      "100\n",
      "Prepared data in 0:00:08.601446\n",
      "5000/5000 [==============================] - 5s 1ms/step\n",
      "Accuracy: 74.62%\n",
      "150\n",
      "Prepared data in 0:00:08.312614\n",
      "5000/5000 [==============================] - 7s 1ms/step\n",
      "Accuracy: 74.56%\n",
      "200\n",
      "Prepared data in 0:00:08.305741\n",
      "5000/5000 [==============================] - 9s 2ms/step\n",
      "Accuracy: 70.46%\n",
      "250\n",
      "Prepared data in 0:00:08.709223\n",
      "5000/5000 [==============================] - 11s 2ms/step\n",
      "Accuracy: 74.96%\n"
     ]
    }
   ],
   "source": [
    "max_review_lengths = [10, 25, 50, 100, 150, 200, 250]\n",
    "scores_250 = []\n",
    "\n",
    "for max_review in max_review_lengths:\n",
    "    print(max_review)\n",
    "    x_train_pad_sub, y_train_sub, x_test_pad_sub, y_test_sub = prep_data(\n",
    "        vocab_size=250,\n",
    "        max_review_len=max_review\n",
    "    )\n",
    "    \n",
    "    scores_250.append(\n",
    "        train_and_evaluate_model(\n",
    "            x_train=x_train_pad_sub,\n",
    "            y_train=y_train_sub,\n",
    "            x_test=x_test_pad_sub,\n",
    "            y_test=y_test_sub,\n",
    "            num_epochs=2,\n",
    "            max_review_len=max_review,\n",
    "            vocab_size=250,\n",
    "            verbose=0\n",
    "        )\n",
    "    )"
   ]
  },
  {
   "cell_type": "code",
   "execution_count": 25,
   "metadata": {},
   "outputs": [
    {
     "data": {
      "image/png": "[encoded data removed]",
      "text/plain": [
       "<Figure size 720x640 with 1 Axes>"
      ]
     },
     "metadata": {},
     "output_type": "display_data"
    }
   ],
   "source": [
    "fig = plt.figure(figsize=(9, 8), dpi= 80, facecolor='w', edgecolor='k')\n",
    "\n",
    "x_range = np.arange(7)\n",
    "width = 0.25\n",
    "\n",
    "plt.bar(x_range, scores, width)\n",
    "plt.bar(x_range + width, scores_250, width)\n",
    "\n",
    "plt.xticks(x_range, max_review_lengths)\n",
    "plt.ylim([0, 1])\n",
    "plt.xlabel('Max Review Lengths')\n",
    "plt.ylabel('Accuracy')\n",
    "plt.title('Length of Reviews vs Accuracy (5k Samples Used)')\n",
    "plt.legend(['Vocab Size 100', 'Vocab Size 250'])\n",
    "\n",
    "plt.show()"
   ]
  },
  {
   "cell_type": "code",
   "execution_count": null,
   "metadata": {},
   "outputs": [],
   "source": []
  },
  {
   "cell_type": "code",
   "execution_count": null,
   "metadata": {},
   "outputs": [],
   "source": []
  },
  {
   "cell_type": "code",
   "execution_count": null,
   "metadata": {},
   "outputs": [],
   "source": []
  },
  {
   "cell_type": "code",
   "execution_count": null,
   "metadata": {},
   "outputs": [],
   "source": []
  }
 ],
 "metadata": {
  "kernelspec": {
   "display_name": "Python 3",
   "language": "python",
   "name": "python3"
  },
  "language_info": {
   "codemirror_mode": {
    "name": "ipython",
    "version": 3
   },
   "file_extension": ".py",
   "mimetype": "text/x-python",
   "name": "python",
   "nbconvert_exporter": "python",
   "pygments_lexer": "ipython3",
   "version": "3.6.5"
  }
 },
 "nbformat": 4,
 "nbformat_minor": 2
}
