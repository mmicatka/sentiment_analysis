{
 "cells": [
  {
   "cell_type": "markdown",
   "metadata": {},
   "source": [
    "# Background Stuff\n",
    "Explain what we are doing here"
   ]
  },
  {
   "cell_type": "code",
   "execution_count": 1,
   "metadata": {},
   "outputs": [
    {
     "name": "stderr",
     "output_type": "stream",
     "text": [
      "Using TensorFlow backend.\n"
     ]
    }
   ],
   "source": [
    "import pandas as pd\n",
    "import numpy as np\n",
    "from glob import glob\n",
    "import os\n",
    "import sys\n",
    "from datetime import datetime\n",
    "import matplotlib.pyplot as plt\n",
    "from scipy.stats import describe\n",
    "import re\n",
    "from collections import Counter\n",
    "\n",
    "from src.utils import prep_data, train_and_evaluate_model, get_x_y\n",
    "\n",
    "SEED = 2018"
   ]
  },
  {
   "cell_type": "code",
   "execution_count": 2,
   "metadata": {},
   "outputs": [],
   "source": [
    "x_train_raw, y_train_raw = get_x_y('data/train')"
   ]
  },
  {
   "cell_type": "code",
   "execution_count": 3,
   "metadata": {},
   "outputs": [],
   "source": [
    "review_lengths = []\n",
    "for review in x_train_raw:\n",
    "    review_lengths.append(len(review.split(' ')))"
   ]
  },
  {
   "cell_type": "code",
   "execution_count": 4,
   "metadata": {},
   "outputs": [
    {
     "data": {
      "image/png": "[encoded data removed]",
      "text/plain": [
       "<Figure size 432x288 with 1 Axes>"
      ]
     },
     "metadata": {},
     "output_type": "display_data"
    }
   ],
   "source": [
    "percent_95 = np.percentile(review_lengths, 95)\n",
    "bins = np.arange(0, percent_95, 10)\n",
    "plt.hist(review_lengths,bins,color='blue',alpha=0.8)\n",
    "plt.xlabel('Review Lengths')\n",
    "plt.ylabel('Number of Reviews')\n",
    "plt.title('Number of Reviews vs Review Length (95% percentile)')\n",
    "plt.show()"
   ]
  },
  {
   "cell_type": "code",
   "execution_count": 5,
   "metadata": {},
   "outputs": [],
   "source": [
    "words = []\n",
    "\n",
    "for review in x_train_raw:\n",
    "    # Removes puncuation\n",
    "    review = re.sub(r'[^\\w\\s]','',review)\n",
    "    for word in review.split(' '):\n",
    "        words.append(word)"
   ]
  },
  {
   "cell_type": "code",
   "execution_count": 6,
   "metadata": {},
   "outputs": [],
   "source": [
    "counter = Counter(words)\n",
    "values = list(counter.values())"
   ]
  },
  {
   "cell_type": "code",
   "execution_count": 7,
   "metadata": {},
   "outputs": [
    {
     "data": {
      "image/png": "[encoded data removed]",
      "text/plain": [
       "<Figure size 432x288 with 1 Axes>"
      ]
     },
     "metadata": {},
     "output_type": "display_data"
    }
   ],
   "source": [
    "percent_95 = np.percentile(values, 99)\n",
    "bins = np.arange(0, percent_95, 10)\n",
    "plt.hist(values,bins,color='blue',alpha=0.8)\n",
    "plt.show()"
   ]
  },
  {
   "cell_type": "code",
   "execution_count": null,
   "metadata": {},
   "outputs": [
    {
     "name": "stdout",
     "output_type": "stream",
     "text": [
      "Running trial 1 of 21\n",
      "5000/5000 [==============================] - 1s 226us/step\n",
      "Running trial 2 of 21\n",
      "5000/5000 [==============================] - 3s 608us/step\n",
      "Running trial 3 of 21\n",
      "5000/5000 [==============================] - 5s 1ms/step\n",
      "Running trial 4 of 21\n",
      "5000/5000 [==============================] - 9s 2ms/step\n",
      "Running trial 5 of 21\n"
     ]
    }
   ],
   "source": [
    "max_review_lengths = [10, 50, 100, 200, 300, 400, 500]\n",
    "vocab_sizes = [100, 250, 500]\n",
    "scores = {}\n",
    "counter = 1\n",
    "num_trials = len(max_review_lengths) * len(vocab_sizes)\n",
    "\n",
    "for vocab_size in vocab_sizes:\n",
    "    scores[vocab_size] = []\n",
    "    for max_review in max_review_lengths:\n",
    "        print('Running trial ' + str(counter) + ' of ' + str(num_trials))\n",
    "        x_train_pad_sub, y_train_sub, x_test_pad_sub, y_test_sub = prep_data(\n",
    "            vocab_size=vocab_size,\n",
    "            max_review_len=max_review\n",
    "        )\n",
    "\n",
    "        scores[vocab_size].append(\n",
    "            train_and_evaluate_model(\n",
    "                x_train=x_train_pad_sub,\n",
    "                y_train=y_train_sub,\n",
    "                x_test=x_test_pad_sub,\n",
    "                y_test=y_test_sub,\n",
    "                num_epochs=2,\n",
    "                max_review_len=max_review,\n",
    "                verbose=0\n",
    "            )\n",
    "        )\n",
    "\n",
    "        counter += 1"
   ]
  },
  {
   "cell_type": "code",
   "execution_count": null,
   "metadata": {},
   "outputs": [],
   "source": [
    "fig = plt.figure(figsize=(9, 8), dpi= 80, facecolor='w', edgecolor='k')\n",
    "x_range = np.arange(len(next(iter(scores.values()))))\n",
    "width = 0.25\n",
    "legend_values = []\n",
    "\n",
    "for counter, vocab_size in enumerate(scores):\n",
    "    plt.bar(x_range + width*(counter - 1), scores[vocab_size], width)\n",
    "    legend_values.append('Vocab Size ' + str(vocab_size))\n",
    "    \n",
    "plt.xticks(x_range, max_review_lengths)\n",
    "plt.ylim([0, 100])\n",
    "plt.xlabel('Max Review Lengths')\n",
    "plt.ylabel('Accuracy %')\n",
    "plt.title('Length of Reviews vs Accuracy (5k Samples Used)')\n",
    "plt.legend(legend_values)\n",
    "\n",
    "plt.show()"
   ]
  },
  {
   "cell_type": "code",
   "execution_count": null,
   "metadata": {},
   "outputs": [],
   "source": []
  }
 ],
 "metadata": {
  "kernelspec": {
   "display_name": "Python 3",
   "language": "python",
   "name": "python3"
  },
  "language_info": {
   "codemirror_mode": {
    "name": "ipython",
    "version": 3
   },
   "file_extension": ".py",
   "mimetype": "text/x-python",
   "name": "python",
   "nbconvert_exporter": "python",
   "pygments_lexer": "ipython3",
   "version": "3.6.4"
  }
 },
 "nbformat": 4,
 "nbformat_minor": 2
}
